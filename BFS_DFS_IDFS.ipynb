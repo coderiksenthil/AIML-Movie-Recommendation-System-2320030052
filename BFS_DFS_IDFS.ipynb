{
  "nbformat": 4,
  "nbformat_minor": 0,
  "metadata": {
    "colab": {
      "provenance": []
    },
    "kernelspec": {
      "name": "python3",
      "display_name": "Python 3"
    },
    "language_info": {
      "name": "python"
    }
  },
  "cells": [
    {
      "cell_type": "code",
      "source": [
        "def dfs(graph, start_node):\n",
        "    visited = set()\n",
        "    stack = [start_node]\n",
        "\n",
        "    while stack:\n",
        "        node = stack.pop()\n",
        "        if node not in visited:\n",
        "            visited.add(node)\n",
        "            print(node, end=\" \")  # Process the node (e.g., print it)\n",
        "\n",
        "            # Add unvisited neighbors to the stack\n",
        "            neighbors = graph.get(node, [])  # Get neighbors, handle missing keys\n",
        "            for neighbor in reversed(neighbors): # Add in reversed order for correct DFS\n",
        "                if neighbor not in visited:\n",
        "                    stack.append(neighbor)\n",
        "\n",
        "# Example graph represented as an adjacency list\n",
        "graph = {\n",
        "    'A': ['B', 'C'],\n",
        "    'B': ['D', 'E'],\n",
        "    'C': ['F'],\n",
        "    'D': [],\n",
        "    'E': ['F'],\n",
        "    'F': []\n",
        "}\n",
        "\n",
        "print(\"DFS traversal starting from A:\")\n",
        "dfs(graph, 'A')\n"
      ],
      "metadata": {
        "colab": {
          "base_uri": "https://localhost:8080/"
        },
        "id": "5x6HtuyxkYaQ",
        "outputId": "8aad72ba-5fbe-46ff-c9b2-5116441218f1"
      },
      "execution_count": 10,
      "outputs": [
        {
          "output_type": "stream",
          "name": "stdout",
          "text": [
            "DFS traversal starting from A:\n",
            "A B D E F C "
          ]
        }
      ]
    },
    {
      "cell_type": "code",
      "source": [
        "from collections import deque\n",
        "\n",
        "def bfs(graph, start_node):\n",
        "    visited = set()\n",
        "    queue = deque([start_node])\n",
        "    visited.add(start_node)\n",
        "\n",
        "    while queue:\n",
        "        node = queue.popleft()\n",
        "        print(node, end=\" \")\n",
        "\n",
        "        neighbors = graph.get(node, [])\n",
        "        for neighbor in neighbors:\n",
        "            if neighbor not in visited:\n",
        "                visited.add(neighbor)\n",
        "                queue.append(neighbor)\n",
        "\n",
        "# Example graph (same as in the DFS example)\n",
        "graph = {\n",
        "    'A': ['B', 'C'],\n",
        "    'B': ['D', 'E'],\n",
        "    'C': ['F'],\n",
        "    'D': [],\n",
        "    'E': ['F'],\n",
        "    'F': []\n",
        "}\n",
        "\n",
        "print(\"\\nBFS traversal starting from A:\")\n",
        "bfs(graph, 'A')"
      ],
      "metadata": {
        "colab": {
          "base_uri": "https://localhost:8080/"
        },
        "id": "v37cTaopkcCb",
        "outputId": "0d66bd91-1a6c-4fc3-c117-c646d4ae6a51"
      },
      "execution_count": 9,
      "outputs": [
        {
          "output_type": "stream",
          "name": "stdout",
          "text": [
            "\n",
            "BFS traversal starting from A:\n",
            "A B C D E F "
          ]
        }
      ]
    },
    {
      "cell_type": "code",
      "source": [
        "from collections import deque\n",
        "\n",
        "def dfs(graph, start_node):\n",
        "    visited = set()\n",
        "    stack = [start_node]\n",
        "\n",
        "    while stack:\n",
        "        node = stack.pop()\n",
        "        if node not in visited:\n",
        "            visited.add(node)\n",
        "            print(node, end=\" \")  # Process the node (e.g., print it)\n",
        "\n",
        "            # Add unvisited neighbors to the stack\n",
        "            neighbors = graph.get(node, [])  # Get neighbors, handle missing keys\n",
        "            for neighbor in reversed(neighbors): # Add in reversed order for correct DFS\n",
        "                if neighbor not in visited:\n",
        "                    stack.append(neighbor)\n",
        "\n",
        "def bfs(graph, start_node):\n",
        "    visited = set()\n",
        "    queue = deque([start_node])\n",
        "    visited.add(start_node)\n",
        "\n",
        "    while queue:\n",
        "        node = queue.popleft()\n",
        "        print(node, end=\" \")\n",
        "\n",
        "        neighbors = graph.get(node, [])\n",
        "        for neighbor in neighbors:\n",
        "            if neighbor not in visited:\n",
        "                visited.add(neighbor)\n",
        "                queue.append(neighbor)\n",
        "\n",
        "# Example usage (you can modify the graph and start node as needed)\n",
        "graph = {\n",
        "    'A': ['B', 'C'],\n",
        "    'B': ['D', 'E'],\n",
        "    'C': ['F'],\n",
        "    'D': [],\n",
        "    'E': ['F'],\n",
        "    'F': []\n",
        "}\n",
        "\n",
        "print(\"DFS traversal starting from A:\")\n",
        "dfs(graph, 'A')\n",
        "print(\"\\nBFS traversal starting from A:\")\n",
        "bfs(graph, 'A')"
      ],
      "metadata": {
        "colab": {
          "base_uri": "https://localhost:8080/"
        },
        "id": "SEOB4Zjjkuqx",
        "outputId": "fddaaee8-3522-4ca3-a48d-3439d16d1929"
      },
      "execution_count": 8,
      "outputs": [
        {
          "output_type": "stream",
          "name": "stdout",
          "text": [
            "DFS traversal starting from A:\n",
            "A B D E F C \n",
            "BFS traversal starting from A:\n",
            "A B C D E F "
          ]
        }
      ]
    },
    {
      "cell_type": "code",
      "source": [],
      "metadata": {
        "id": "LFUcK135onVS"
      },
      "execution_count": null,
      "outputs": []
    }
  ]
}